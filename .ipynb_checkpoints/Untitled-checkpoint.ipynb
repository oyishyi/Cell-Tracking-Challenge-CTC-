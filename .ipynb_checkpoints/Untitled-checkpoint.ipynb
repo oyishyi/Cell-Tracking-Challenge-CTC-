{
 "cells": [
  {
   "cell_type": "code",
   "execution_count": null,
   "metadata": {},
   "outputs": [],
   "source": [
    "import numpy as np\n",
    "import cv2"
   ]
  },
  {
   "cell_type": "code",
   "execution_count": null,
   "metadata": {},
   "outputs": [],
   "source": [
    "###########################################################################\n",
    "# data pre-processing\n",
    "# produce mask(foreground & background) and marker(union of disconnected cell)\n",
    "# both are binary image\n",
    "###########################################################################\n",
    "\n",
    "# mask\n",
    "# just transfrom the ground truth masks to binary images\n",
    "for index in range(84):\n",
    "    img = cv2.imread(f'DIC-C2DH-HeLa/01_ST/SEG/man_seg{index:03}.tif', -1)\n",
    "    img = img.astype(np.uint8)\n",
    "    _, res = cv2.threshold(img, 0, 255, cv2.THRESH_BINARY)\n",
    "    cv2.imshow(f'img{index}', res)\n",
    "    if cv2.waitKey(1) & 0XFF == ord('q'):\n",
    "        break\n",
    "cv2.destroyAllWindows()\n",
    "\n",
    "# marker\n",
    "# deal with each cell individually for each image\n",
    "# each cell is eroded by a circle kernel, with diameter dSE = (1 - k) * dmax\n",
    "# dmax is a diameter of the maximal disk included in the cell mask\n",
    "for index in range(84):\n",
    "    img = cv2.imread(f'DIC-C2DH-HeLa/01_ST/SEG/man_seg{index:03}.tif', -1)\n",
    "    # initialize a black image\n",
    "    res = np.zeros((img.shape), dtype = np.uint8)\n",
    "    # deal with each cell\n",
    "    for label in np.unique(img):\n",
    "        if label == 0:\n",
    "            continue\n",
    "        mask = ((label == img) * 1).astype(np.uint8)\n",
    "        # get a circle structure and erode\n",
    "        kernel = cv2.getStructuringElement(cv2.MORPH_ELLIPSE, (3,3))\n",
    "        mask = cv2.erode(mask, kernel)\n",
    "        # add each eroded cell to the final image\n",
    "        res = cv2.add(res, mask)\n",
    "    # transfrom to binary image\n",
    "    _, res = cv2.threshold(res, 0, 255, cv2.THRESH_BINARY)\n",
    "\n",
    "    cv2.imshow(f'img{index}', res)\n",
    "    if cv2.waitKey(1) & 0XFF == ord('q'):\n",
    "        break\n",
    "cv2.destroyAllWindows()"
   ]
  }
 ],
 "metadata": {
  "kernelspec": {
   "display_name": "Python 3.7.7 64-bit",
   "language": "python",
   "name": "python37764bitc80f8e2507274243afb493c6c4c28664"
  },
  "language_info": {
   "codemirror_mode": {
    "name": "ipython",
    "version": 3
   },
   "file_extension": ".py",
   "mimetype": "text/x-python",
   "name": "python",
   "nbconvert_exporter": "python",
   "pygments_lexer": "ipython3",
   "version": "3.7.7"
  }
 },
 "nbformat": 4,
 "nbformat_minor": 4
}
