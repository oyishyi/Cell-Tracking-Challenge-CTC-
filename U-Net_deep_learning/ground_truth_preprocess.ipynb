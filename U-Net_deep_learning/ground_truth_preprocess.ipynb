{
 "cells": [
  {
   "cell_type": "code",
   "execution_count": 1,
   "metadata": {},
   "outputs": [],
   "source": [
    "from IPython.core.interactiveshell import InteractiveShell \n",
    "InteractiveShell.ast_node_interactivity = \"all\" \n",
    "import numpy as np\n",
    "import cv2\n",
    "import matplotlib.pyplot as plt"
   ]
  },
  {
   "cell_type": "code",
   "execution_count": 105,
   "metadata": {
    "tags": []
   },
   "outputs": [],
   "source": [
    "###########################################################################\n",
    "# data pre-processing\n",
    "# produce mask(foreground & background) and marker(union of disconnected cell) and weight map(blance the frequency)\n",
    "# both are binary image\n",
    "###########################################################################\n",
    "root_path = 'DIC-C2DH-HeLa'\n",
    "sequence = '02'\n",
    "num_of_images = 84\n",
    "k = 0.4"
   ]
  },
  {
   "cell_type": "code",
   "execution_count": null,
   "metadata": {},
   "outputs": [],
   "source": [
    "###########################################################################\n",
    "# masks\n",
    "# just transfrom the ground truth masks to binary images\n",
    "###########################################################################\n",
    "for index in range(num_of_images):\n",
    "    img = cv2.imread(f'{root_path}/{sequence}_ST/SEG/man_seg{index:03}.tif', -1)\n",
    "    img = img.astype(np.uint8)\n",
    "    _, res = cv2.threshold(img, 0, 255, cv2.THRESH_BINARY)\n",
    "    cv2.imshow(f'img{index}', res)\n",
    "    _ = cv2.imwrite(f'{root_path}/{sequence}_generated_masks/mask{index:03}.tif', res)\n",
    "    if cv2.waitKey(1) & 0XFF == ord('q'):\n",
    "        break\n",
    "\n",
    "cv2.destroyAllWindows()"
   ]
  },
  {
   "cell_type": "code",
   "execution_count": null,
   "metadata": {},
   "outputs": [],
   "source": [
    "###########################################################################\n",
    "# markers\n",
    "# deal with each cell individually for each image\n",
    "# each cell is eroded by a circular kernel, with diameter dSE = (1 - k) * dmax\n",
    "# dmax is a diameter of the maximal disk included in the cell mask\n",
    "###########################################################################\n",
    "for index in range(num_of_images):\n",
    "    img = cv2.imread(f'{root_path}/{sequence}_ST/SEG/man_seg{index:03}.tif', -1)\n",
    "    # initialize a black image\n",
    "    res = np.zeros((img.shape), dtype = np.uint8)\n",
    "    # deal with each cell\n",
    "    for label in np.unique(img):\n",
    "        if label == 0: # ignore the background\n",
    "            continue\n",
    "        mask = ((label == img) * 1).astype(np.uint8)\n",
    "        _, mask = cv2.threshold(mask, 0, 255, cv2.THRESH_BINARY)\n",
    "\n",
    "        # find the maximal disk\n",
    "        dist = cv2.distanceTransform(mask, cv2.DIST_L2, 3)\n",
    "        dmax = cv2.minMaxLoc(dist)[1]\n",
    "        # compute the dSE\n",
    "        dSE = int((1 - k) * dmax)\n",
    "        # get a circle structure and erode\n",
    "        kernel = cv2.getStructuringElement(cv2.MORPH_ELLIPSE, (dSE,dSE))\n",
    "        mask = cv2.erode(mask, kernel)\n",
    "\n",
    "        # select only the largest connected component(because the erotion will split(erode) some cell to multible component)\n",
    "        nb, cc = cv2.connectedComponents(mask, connectivity=4)\n",
    "        if nb != 1:\n",
    "            max_size = 0\n",
    "            max_cc = 0\n",
    "            for i in range(1, nb):\n",
    "                component = (cc == i)*1\n",
    "                if (np.sum(component)) > max_size:\n",
    "                    max_size = np.sum(component)\n",
    "                    max_cc = i\n",
    "            mask = ((max_cc == cc)*1).astype(np.uint8)\n",
    "     \n",
    "        # add each eroded cell to the final image\n",
    "        res = cv2.add(res, mask)\n",
    "    # transfrom to binary image\n",
    "    _, res = cv2.threshold(res, 0, 255, cv2.THRESH_BINARY)\n",
    "\n",
    "    cv2.imshow(f'img{index}', res)\n",
    "    _ = cv2.imwrite(f'{root_path}/{sequence}_generated_markers/marker{index:03}.tif', res)\n",
    "    if cv2.waitKey(1) & 0XFF == ord('q'):\n",
    "        break\n",
    "\n",
    "cv2.destroyAllWindows()"
   ]
  },
  {
   "cell_type": "code",
   "execution_count": 106,
   "metadata": {},
   "outputs": [],
   "source": [
    "###########################################################################\n",
    "# weight maps\n",
    "# formula: W(x) = Wc + W0*exp(- (d1(x) + d2(x))²/2σ²)\n",
    "# Wc: balanced class frequency map\n",
    "# d1: the distance to the border of the nearest cell\n",
    "# d2: the distance to the border of the second nearesr cell\n",
    "###########################################################################\n",
    "\n",
    "# parameter\n",
    "w0 = 10\n",
    "sigma = 5\n",
    "\n",
    "for index in range(num_of_images):\n",
    "    img = cv2.imread(f'{root_path}/{sequence}_ST/SEG/man_seg{index:03}.tif', -1)\n",
    "\n",
    "    # compute balanced class frequency map\n",
    "    w_0 = np.sum(img > 0)/img.size\n",
    "    w_1 = 1 - w_0\n",
    "    wc = np.where(img == 0, w_0, w_1)\n",
    "\n",
    "    # compute d1 and d2\n",
    "    distance_map = np.zeros((img.shape[0], img.shape[1], np.max(img)))\n",
    "    for label in range(1, np.max(img)+1):\n",
    "        mask = ((img == label)*1).astype(np.uint8)\n",
    "        distance_map[:, :, label-1] = cv2.distanceTransform(1 - mask, cv2.DIST_L2, 3)\n",
    "    distance_map = np.sort(distance_map, axis=2)\n",
    "    d1 = distance_map[:, :, 0]\n",
    "    d2 = distance_map[:, :, 1]\n",
    "    weight_map = wc + w0 * np.exp(-((d1+d2)**2)/(2 * sigma * sigma))\n",
    "    _ = np.save(f'{root_path}/{sequence}_weight_map/weight_map{index:03}.npy', weight_map)"
   ]
  },
  {
   "cell_type": "code",
   "execution_count": 4,
   "metadata": {
    "tags": []
   },
   "outputs": [
    {
     "output_type": "execute_result",
     "data": {
      "text/plain": "0.6981132075471698"
     },
     "metadata": {},
     "execution_count": 4
    }
   ],
   "source": [
    "last = cv2.imread('PhC-C2DL-PSC/01/t030.tif', -1)\n",
    "_, last = cv2.threshold(last, 170, 255, cv2.THRESH_BINARY)\n",
    "\n",
    "img = cv2.imread('PhC-C2DL-PSC/01/t001.tif', 1)\n",
    "gray = cv2.imread('PhC-C2DL-PSC/01/t001.tif', -1)\n",
    "\n",
    "_, gray = cv2.threshold(gray, 170, 255, cv2.THRESH_BINARY)\n",
    "\n",
    "_, contours, _ = cv2.findContours(gray, cv2.RETR_TREE, cv2.CHAIN_APPROX_SIMPLE)\n",
    "\n",
    "\n",
    "img = cv2.fillPoly(gray, [contours[10]], 120)\n",
    "\n",
    "mask = np.full((576,720), 120)\n",
    "res = ((mask == img)*1).astype(np.uint8)qq\n",
    "_, res = cv2.threshold(res, 0, 255, cv2.THRESH_BINARY)\n",
    "area = np.sum(res)/255\n",
    "\n",
    "overlap = cv2.bitwise_and(res, last)\n",
    "\n",
    "area_overlap = np.sum(overlap)/255\n",
    "\n",
    "area_overlap/area\n",
    "\n",
    "_, overlap = cv2.threshold(overlap, 0, 255, cv2.THRESH_BINARY)\n",
    "\n",
    "\n",
    "cv2.imshow('asd', overlap)\n",
    "_ = cv2.waitKey(0)\n",
    "cv2.destroyAllWindows()\n"
   ]
  }
 ],
 "metadata": {
  "kernelspec": {
   "display_name": "Python 3.7.7 64-bit",
   "language": "python",
   "name": "python37764bitc80f8e2507274243afb493c6c4c28664"
  },
  "language_info": {
   "codemirror_mode": {
    "name": "ipython",
    "version": 3
   },
   "file_extension": ".py",
   "mimetype": "text/x-python",
   "name": "python",
   "nbconvert_exporter": "python",
   "pygments_lexer": "ipython3",
   "version": "3.7.7-final"
  }
 },
 "nbformat": 4,
 "nbformat_minor": 4
}
